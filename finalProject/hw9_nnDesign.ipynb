{
 "cells": [
  {
   "cell_type": "markdown",
   "metadata": {},
   "source": [
    "With my final project, I want to explore more about modeling. I thought neural nets were especially interesting- especially the random permutations that lead to progress. I want to explore how that random permutation may lead to an idea of strategy. When I think of strategy games, they seem to complex with too many available inputs. However, I think Pokemon provides a happy medium. Pokemon is teeming with strategy, but unlike other games, it has a relatively limited input range. The layers of strategy in pokemon come from the data, not the inputs. Every pokemon has a type, stats and four moves, which each have types and stats of their own, not to mention so many more layers. I think that with a large amount of properly catalogued data of pokemon battles, a neural net can learn to play pokemon. However, I don't think I can program a neural network to achieve this goal easily. I might be able to organize data on my own, but I have no idea how to actually get a nerual network to learn to play a game, as well as see the output. Once I accomplish those things, I can build up to data scraping and then finally creating my own neural network to play pokemon."
   ]
  },
  {
   "cell_type": "markdown",
   "metadata": {},
   "source": [
    "<h1>Getting a Neural Network to Play a Game as well as Seeing the Output</h1>"
   ]
  },
  {
   "cell_type": "markdown",
   "metadata": {},
   "source": [
    "<h1>This was originally all about pokemon</h1>\n",
    "To be honest, I started this from the top and worked my way down. I really wanted to write a neural network to play pokemon, especially because there's <a href='https://play.pokemonshowdown.com'> an easy way to play pokemon against strangers online</a>, which I thought would be a perfect place to let an AI loose.\n",
    "\n",
    "I tried looking into my idea and found a few things like:\n",
    "<ol>\n",
    "<li><a href='https://github.com/smogon/pokemon-showdown-client/blob/master/WEB-API.md'>The API to scrape the online pokemon website</a></li>\n",
    "<li><a href='https://www.smogon.com/forums/threads/usage-stats-api.3661849/'>The API to scrape data about pokemon, items, moves, and matchups</a></li>\n",
    "<h4>But I was also eventually lead to:</h4>\n",
    "<li><a href='https://web.stanford.edu/class/aa228/reports/2018/final151.pdf'>This Stanford paper about someone who tried to do the same thing which also mentioned</a></li>\n",
    "<li><a href='https://varunramesh.net/content/documents/cs221-final-report.pdf'>Another Stanford paper about someone who tried to do the same thing,</a></li> \n",
    "<li>As well as a <a href='https://docplayer.net/63514819-Artificial-intelligence-for-pokemon-showdown.html'>another</a>\n",
    "</ol>\n",
    "\n",
    "So I this showed me a few things. First, this idea isn't as original as I thought. But it also showed me what I wanted to do was possible in some extent, but it was also a whole lot more complicated than I expected. When I looked over the amount of quantifiable data there is in one round of a pokemon game, I realized I wouldn't even know where to begin in representing the game. How do I make clear the available choice of moves the neural net has? Where do I get the match data? How do I program this to play online? There's a lot for me to pursue in the future.\n",
    "\n",
    "<h3>So I need to start smaller</h3>\n",
    "\n",
    "I know nothing about how to represent a complex environment like that in python, let alone any game environment.\n",
    "\n",
    "So I think the best place to start is with getting a neural network to play a simple game with simple visual representations. I am currently using <a href=\"https://www.youtube.com/watch?v=pX7vlnG6eC8\">this series of youtube videos</a> to learn how to do so.\n",
    "<br>\n",
    "<ul>\n",
    "<li>Video #1 To start, I followed along his video and used the sample code he <a href='https//https://github.com/bluefeversoft/flappy_learning_pygame'>provided on github.</a> Using this sample code, I commented so that I could understand everything that was being done.</li>\n",
    "<br>\n",
    "<li>Video #3 Turns out this series is 15 videos long. Each one has its own code pasted on gitHub. I'm going through each video one by one and commenting on their code so I have an idea of how pygame works, as well as the ability to come back and understand what each individual piece does.</li>\n",
    "<br>\n",
    "<li>Video #5 For now, it seems like this is kinda like a tutorial in pygame. However, I'm totally okay with that. I haven't used pygame before and I feel like this is a great way to expand my knowledge on two topics at once. I'm still following the same process of commenting code.</li>\n",
    "<br>\n",
    "<li>Video #6 I really like how this series takes a stepwise approach. By seeing the order in which the creator chooses to create every element, I can see the process I need to follow myself. If I ever need to come back to pygame after this I have a step by step guide.</li>\n",
    "<br>\n",
    "<li>Video #10 I just finished the section where we really moved into neural nets. I'm starting to appreciate a lot of concepts in linear algebra now that I see their practical application. However, comparing this againt the neural nets we created in hw6pr1, the actual implimentation of the neural net seems quite different than what is shown. I think I will ask Dodds about it before I continue.</li>\n",
    "<br>\n",
    "<li>Video #11 I just checked with Dodds and it turns out that's basically a manual neural net. Cool! It's interesting to see how it works. Obiously, it's very simple, but it's still very interesting. I'm surprised that every bird gets their own neural net, but that makes sense. That would make it easiest for them to access the data. However, by the end, this one got the most confusing.</li>\n",
    "<br>\n",
    "<li>Video #12 The last video ended on a confusing note for me. I wasn't really sure how the normalization of data worked and the jump mechanic confused me as well. I hope in this video that we get a bit more direction and structure. He also just mentioned that we wont be using back propogation in this neural net, which I think we used in the class one. </li>\n",
    "<br>\n",
    "<li>Video #14 I just finished the second to last video. The process of mutation and evolution is very very interesting, especially in situations like this where a fitness score has to be designed as no finished state exists. I'm very confused how the neural network will recreate the behaviour of past fit generations. </li>\n",
    "<br>\n",
    "<li>Video #15 Wow. I get it now. It's not that the future genrations repeat behaviour, but instead repeat interpritations of inputs. That makes so much more sense. I've finally finished the series, and I feel like this has given me an amazing basis to work off of, and a great insight into the design of the interals of neural nets. </li>\n",
    "\n",
    "</ul>\n",
    "<br>\n",
    "Alright, I now have my neural network version of flappy bird working perfectly. The neural net is pretty impressive, too. It only takes a few generations before this network can play flappy bird almost perfectly.\n",
    "<br>\n",
    "<h3>So what should I do next?</h3>\n",
    "As it is now, there's no way this net could play pokemon. But I think I could get it to play my own game. I think an incredibly simple game to teach a neural net would be snake. It has easy metrics to measure success- time, points, and distance from the walls. And the series above gives me a great way to understand how to map that fitness to work for my game. I think I'm going to use someone else's version of pygame snake, so that I don't have to waste time designing that and can instead focus on integration of a neural net.\n",
    "\n",
    "<br>\n",
    "<br>\n",
    "<a href='https://github.com/codebasics/python_projects/tree/main/1_snake_game'> This is the guide I will be using for my pygame version of snake </a>\n",
    "<br>\n",
    "\n",
    "<h3>The Problems I Face</h3>\n",
    "<br>\n",
    "So there are a few issues I've had so far in combining the two codes. First off, the two programmers code in entirely different styles. That means that trying to jam in the code for one to the other is quite difficult. Additionally, the two styles of game aren't similar. Flappy bird seems more suitable to multiple neural nets running at a time, but snake seems like it would be harder to parse out.\n",
    "<br>\n",
    "<br>\n",
    "I have just had a breakthrough and simultaneously a huge problem. I was able to get jam the two codes together well enough that the game starts and doesn't immediately crash. Sadly, the neural network part isn't working. There only seems to be the one iteration of snakes, and it doesn't even appear on the board. I have no idea what the issue is. I think I'm gonna try to talk to Dodds later about this and see if I can get it working in time. \n",
    "<br>\n",
    "<br>\n",
    "Otherwise, if I can't fix this in time, that will be my priority with the next steps of this project. I want to get this neural network running snake perfectly before I move onto anything else. And right now, accomplishing that seems like a hell of a lot of debugging.\n",
    "<br>\n",
    "\n",
    "\n",
    "<h3>And in the future?</h3>\n",
    "<br>\n",
    "My far away plan for this is to one day have it play pokemon. This will require a lot of changes. First off, I will have to learn how to program a neural net that can access a website and interact with it. I'm not sure if python can do this. I also have to scrape a TON of data. Thank god I have those APIs i discovered earlier, but I still need to figure out a way to break down the pokemon showdown battle logs into digestible things\n",
    "<br>\n",
    "<br>\n",
    "<a href='https://docs.google.com/presentation/d/1zGuS5W-TuZg-BmGQViGsviEW8tqE7SWGqXoWCsfOb-k/edit?usp=sharing'>A link to my Presentation</a>"
   ]
  }
 ],
 "metadata": {
  "kernelspec": {
   "display_name": "Python 3.10.5 64-bit",
   "language": "python",
   "name": "python3"
  },
  "language_info": {
   "name": "python",
   "version": "3.10.5"
  },
  "orig_nbformat": 4,
  "vscode": {
   "interpreter": {
    "hash": "aee8b7b246df8f9039afb4144a1f6fd8d2ca17a180786b69acc140d282b71a49"
   }
  }
 },
 "nbformat": 4,
 "nbformat_minor": 2
}
