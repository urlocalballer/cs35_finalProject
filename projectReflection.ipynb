{
 "cells": [
  {
   "cell_type": "markdown",
   "metadata": {},
   "source": [
    "Pearson Mewbourne\n",
    "Friday, July 22, 2022\n",
    "CS35\n",
    "Final Project Reflection"
   ]
  },
  {
   "cell_type": "markdown",
   "metadata": {},
   "source": [
    "<h1>Designing a neural net is crazy</h1>\n",
    "<br>\n",
    "Wow. I can't believe it's over. This class flew by so quickly. I remember in my reflection breakout room, one of my gorupmates commendted on how I had been planning my project for so long, since the first week. I realized in that moment how much work we had all accomplished in such a short amount of time. All of the projects were really cool. I think my favorite was Caetano's. I especially liked his presentation. The art drawn by his friend was very heartwarming.\n",
    "<br>\n",
    "<br>\n",
    "Now, onto the reflecting. As I've stated before, this was all originally about pokemon. I was really excited to learn about machine learning and neural nets because I used to be a DoTA fan in middle school. I remember when OpenAI came out with their bots. It literally revolutionized how the game was played from then on out. I've always felt like modeling has the potential to reveal some incredible insight to us. Just like when the Japanese subway designers used fungi to determine efficiency, I think one day modeling will demonstrate correlations people hadn't considered, or lead us to the ability of entirely new technologies. It encourages a much longer technological lifespan- right now, corporations design electronics to break, so that they have to be replaced after a few years. If a phone instead learns valuable insight about the user that makes their experience better, there would be an incentive for the company to prioritize longevity. Additionally, I think it opens up a ton of avenues of new technology we've never even considered. \n",
    "<br>\n",
    "<br>\n",
    "Okay, for real this time, onto reflecting. I remember being very intimidated when I started to see how neural nets were put together. I didn't understand how I could adapt the system to deal with entirely different styles of data and outputs. That's what dissuaded me from doing a pokemon neural net. I was completely clueless to the different styles of outputs that neural nets have the power to generate. That's part of why I really valued the <a href='https://youtube.com/playlist?list=PLZ1QII7yudbebDQ1Kiqdh1LNz6PavcptO'>neural net flappy bird</a> video guide. Taking me inside the net and showing how everything looked in code made me appreciate how complex the matrix operations were. And the visuals also helped me appreciate linear algebra so much more. It's all there!! I also liked the piecewise style it followed. Doing one part at a time, even as simple as getting the pipes moving, helped break down the process of neural net creation. The entire time while formulating my pokemon idea, I was considering integrating everything at once. I now know I need to focus on the basics of the system first. To do my pokemon net, I first need to design a dumb bot. Something that just picks a random choice every time. I simply need interaction, then I can move on from there.\n",
    "<br>\n",
    "<br>\n",
    "The stylistic differences made intergrating the two codes together so difficult. Especially all of the unnecessary functions in the snake game. There was a function to even load and display <i>just</i>the background image. That meant I had to do a lot of snipping. But as is the case when you snip, the debugging process was a nightmare. Especially when I misinterpreted bugs. I knew that snakes might see time as the most important factor of fitness, and just survive by going in a circle, so I made sure their amount of moves was limited. But I also knew at a long snake, the snake has to go for almost the entire area of the board. So, I made the limits on their movement quite high. It was about 1500 at first, I believe. This only encouraged snakes to do nothing to survive, and I was completely convinced there was a bug. I wasn't printing the right snake's amount of moves left, so I would see a snake moving but the display counter wasn't going down, and I assumed it was that snake's counter. I spent a lot of time trying to fix this bug only to discover it was an issue of clarity.\n",
    "<br>\n",
    "<br>\n",
    "I think that's the big thing that those two tutorials taught me. One was increadibly clear and succinct, and the other was redundant and confusing. Integrating the flappy bird code was easy, but trying to figure out what did what for the snake code was very challenging. In the past, I really struggled with issues of clarity in my coding. In high school, I would name all my variables x, num, or equally confusing things. I remember a teacher once asking me \"why do you call this newLen if it's not the length of newList?\" and I told her \"Oh, because it's a new length I'm taking right now.\" I've really tried to curb that bad habit. I try to make my variables clear and easy to use. I really liked the advice of using i,j,&k for variables that start at 0. That's another succint idea that will be very easy to understand, especially as an industry standard. I think the biggesst thing I can improve on with my coding skills in the future is commenting. Commenting on the flappy bird code helped my brain process every individual piece and digest it myself. There were times I would pause the video to start commenting something he had explained, and I would keep going well past where I paused because breaking it down piece by piece helped me understand why we wanted to do things and how we did them. I felt crunched for time on the snake code, so I didn't comment as much, but I think if I did I would have had an easier time debugging.\n",
    "<br>\n",
    "<br>\n",
    "Overall, I am proud of what I did. I've always thought designing a neural net would be challenging but super interesting. I was right. Knowing it's all simple math - just weights that say how important pieces of data are - is funny but also makes perfect sense. Computers still might not be able to think, but I guess they can have opinions now."
   ]
  }
 ],
 "metadata": {
  "kernelspec": {
   "display_name": "Python 3.10.5 64-bit",
   "language": "python",
   "name": "python3"
  },
  "language_info": {
   "name": "python",
   "version": "3.10.5"
  },
  "orig_nbformat": 4,
  "vscode": {
   "interpreter": {
    "hash": "aee8b7b246df8f9039afb4144a1f6fd8d2ca17a180786b69acc140d282b71a49"
   }
  }
 },
 "nbformat": 4,
 "nbformat_minor": 2
}
